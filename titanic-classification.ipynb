{
 "cells": [
  {
   "cell_type": "code",
   "execution_count": 1,
   "id": "ba73a94e",
   "metadata": {
    "execution": {
     "iopub.execute_input": "2025-07-12T11:10:18.971916Z",
     "iopub.status.busy": "2025-07-12T11:10:18.971614Z",
     "iopub.status.idle": "2025-07-12T11:10:20.641093Z",
     "shell.execute_reply": "2025-07-12T11:10:20.640230Z"
    },
    "papermill": {
     "duration": 1.681534,
     "end_time": "2025-07-12T11:10:20.643024",
     "exception": false,
     "start_time": "2025-07-12T11:10:18.961490",
     "status": "completed"
    },
    "tags": []
   },
   "outputs": [],
   "source": [
    "import pandas as pd\n",
    "import numpy as np\n",
    "import matplotlib.pyplot as plt"
   ]
  },
  {
   "cell_type": "markdown",
   "id": "bcbc0852",
   "metadata": {
    "papermill": {
     "duration": 0.007398,
     "end_time": "2025-07-12T11:10:20.658556",
     "exception": false,
     "start_time": "2025-07-12T11:10:20.651158",
     "status": "completed"
    },
    "tags": []
   },
   "source": [
    "# **1. Load the data**"
   ]
  },
  {
   "cell_type": "code",
   "execution_count": 2,
   "id": "2cf6cb35",
   "metadata": {
    "execution": {
     "iopub.execute_input": "2025-07-12T11:10:20.676363Z",
     "iopub.status.busy": "2025-07-12T11:10:20.675481Z",
     "iopub.status.idle": "2025-07-12T11:10:20.715563Z",
     "shell.execute_reply": "2025-07-12T11:10:20.714894Z"
    },
    "papermill": {
     "duration": 0.050858,
     "end_time": "2025-07-12T11:10:20.717008",
     "exception": false,
     "start_time": "2025-07-12T11:10:20.666150",
     "status": "completed"
    },
    "tags": []
   },
   "outputs": [],
   "source": [
    "training = pd.read_csv(\"/kaggle/input/train-and-test-datasets-reupload/Titanic Train Data.csv\")\n",
    "testing = pd.read_csv(\"/kaggle/input/train-and-test-datasets-reupload/Titanic Test Data.csv\")"
   ]
  },
  {
   "cell_type": "markdown",
   "id": "99582c25",
   "metadata": {
    "papermill": {
     "duration": 0.007536,
     "end_time": "2025-07-12T11:10:20.732508",
     "exception": false,
     "start_time": "2025-07-12T11:10:20.724972",
     "status": "completed"
    },
    "tags": []
   },
   "source": [
    "# **2. Data cleaning and EDA**"
   ]
  },
  {
   "cell_type": "markdown",
   "id": "1c2d10e5",
   "metadata": {
    "papermill": {
     "duration": 0.007365,
     "end_time": "2025-07-12T11:10:20.747507",
     "exception": false,
     "start_time": "2025-07-12T11:10:20.740142",
     "status": "completed"
    },
    "tags": []
   },
   "source": [
    "First step is to clean the training data"
   ]
  },
  {
   "cell_type": "code",
   "execution_count": 3,
   "id": "40d8953e",
   "metadata": {
    "execution": {
     "iopub.execute_input": "2025-07-12T11:10:20.764527Z",
     "iopub.status.busy": "2025-07-12T11:10:20.763675Z",
     "iopub.status.idle": "2025-07-12T11:10:20.790648Z",
     "shell.execute_reply": "2025-07-12T11:10:20.789796Z"
    },
    "papermill": {
     "duration": 0.036885,
     "end_time": "2025-07-12T11:10:20.792016",
     "exception": false,
     "start_time": "2025-07-12T11:10:20.755131",
     "status": "completed"
    },
    "tags": []
   },
   "outputs": [
    {
     "data": {
      "text/html": [
       "<div>\n",
       "<style scoped>\n",
       "    .dataframe tbody tr th:only-of-type {\n",
       "        vertical-align: middle;\n",
       "    }\n",
       "\n",
       "    .dataframe tbody tr th {\n",
       "        vertical-align: top;\n",
       "    }\n",
       "\n",
       "    .dataframe thead th {\n",
       "        text-align: right;\n",
       "    }\n",
       "</style>\n",
       "<table border=\"1\" class=\"dataframe\">\n",
       "  <thead>\n",
       "    <tr style=\"text-align: right;\">\n",
       "      <th></th>\n",
       "      <th>PassengerId</th>\n",
       "      <th>Survived</th>\n",
       "      <th>Pclass</th>\n",
       "      <th>Name</th>\n",
       "      <th>Sex</th>\n",
       "      <th>Age</th>\n",
       "      <th>SibSp</th>\n",
       "      <th>Parch</th>\n",
       "      <th>Ticket</th>\n",
       "      <th>Fare</th>\n",
       "      <th>Cabin</th>\n",
       "      <th>Embarked</th>\n",
       "    </tr>\n",
       "  </thead>\n",
       "  <tbody>\n",
       "    <tr>\n",
       "      <th>0</th>\n",
       "      <td>1</td>\n",
       "      <td>0</td>\n",
       "      <td>3</td>\n",
       "      <td>Braund, Mr. Owen Harris</td>\n",
       "      <td>male</td>\n",
       "      <td>22.0</td>\n",
       "      <td>1</td>\n",
       "      <td>0</td>\n",
       "      <td>A/5 21171</td>\n",
       "      <td>7.2500</td>\n",
       "      <td>NaN</td>\n",
       "      <td>S</td>\n",
       "    </tr>\n",
       "    <tr>\n",
       "      <th>1</th>\n",
       "      <td>2</td>\n",
       "      <td>1</td>\n",
       "      <td>1</td>\n",
       "      <td>Cumings, Mrs. John Bradley (Florence Briggs Th...</td>\n",
       "      <td>female</td>\n",
       "      <td>38.0</td>\n",
       "      <td>1</td>\n",
       "      <td>0</td>\n",
       "      <td>PC 17599</td>\n",
       "      <td>71.2833</td>\n",
       "      <td>C85</td>\n",
       "      <td>C</td>\n",
       "    </tr>\n",
       "    <tr>\n",
       "      <th>2</th>\n",
       "      <td>3</td>\n",
       "      <td>1</td>\n",
       "      <td>3</td>\n",
       "      <td>Heikkinen, Miss. Laina</td>\n",
       "      <td>female</td>\n",
       "      <td>26.0</td>\n",
       "      <td>0</td>\n",
       "      <td>0</td>\n",
       "      <td>STON/O2. 3101282</td>\n",
       "      <td>7.9250</td>\n",
       "      <td>NaN</td>\n",
       "      <td>S</td>\n",
       "    </tr>\n",
       "    <tr>\n",
       "      <th>3</th>\n",
       "      <td>4</td>\n",
       "      <td>1</td>\n",
       "      <td>1</td>\n",
       "      <td>Futrelle, Mrs. Jacques Heath (Lily May Peel)</td>\n",
       "      <td>female</td>\n",
       "      <td>35.0</td>\n",
       "      <td>1</td>\n",
       "      <td>0</td>\n",
       "      <td>113803</td>\n",
       "      <td>53.1000</td>\n",
       "      <td>C123</td>\n",
       "      <td>S</td>\n",
       "    </tr>\n",
       "    <tr>\n",
       "      <th>4</th>\n",
       "      <td>5</td>\n",
       "      <td>0</td>\n",
       "      <td>3</td>\n",
       "      <td>Allen, Mr. William Henry</td>\n",
       "      <td>male</td>\n",
       "      <td>35.0</td>\n",
       "      <td>0</td>\n",
       "      <td>0</td>\n",
       "      <td>373450</td>\n",
       "      <td>8.0500</td>\n",
       "      <td>NaN</td>\n",
       "      <td>S</td>\n",
       "    </tr>\n",
       "  </tbody>\n",
       "</table>\n",
       "</div>"
      ],
      "text/plain": [
       "   PassengerId  Survived  Pclass  \\\n",
       "0            1         0       3   \n",
       "1            2         1       1   \n",
       "2            3         1       3   \n",
       "3            4         1       1   \n",
       "4            5         0       3   \n",
       "\n",
       "                                                Name     Sex   Age  SibSp  \\\n",
       "0                            Braund, Mr. Owen Harris    male  22.0      1   \n",
       "1  Cumings, Mrs. John Bradley (Florence Briggs Th...  female  38.0      1   \n",
       "2                             Heikkinen, Miss. Laina  female  26.0      0   \n",
       "3       Futrelle, Mrs. Jacques Heath (Lily May Peel)  female  35.0      1   \n",
       "4                           Allen, Mr. William Henry    male  35.0      0   \n",
       "\n",
       "   Parch            Ticket     Fare Cabin Embarked  \n",
       "0      0         A/5 21171   7.2500   NaN        S  \n",
       "1      0          PC 17599  71.2833   C85        C  \n",
       "2      0  STON/O2. 3101282   7.9250   NaN        S  \n",
       "3      0            113803  53.1000  C123        S  \n",
       "4      0            373450   8.0500   NaN        S  "
      ]
     },
     "execution_count": 3,
     "metadata": {},
     "output_type": "execute_result"
    }
   ],
   "source": [
    "# the first 6 rows of the data\n",
    "training.head()"
   ]
  },
  {
   "cell_type": "markdown",
   "id": "ee3bf0d8",
   "metadata": {
    "papermill": {
     "duration": 0.007685,
     "end_time": "2025-07-12T11:10:20.807903",
     "exception": false,
     "start_time": "2025-07-12T11:10:20.800218",
     "status": "completed"
    },
    "tags": []
   },
   "source": [
    "Explanation of the data:\n",
    "- PassengerId\n",
    "\n",
    "- Survival(int): whether a passenger survived(1) or died(0)\n",
    "\n",
    "- Pclass(int): The ticket class (1=1st, 2=2nd, 3=3rd)\n",
    "\n",
    "- Sex(string): male or female\n",
    "\n",
    "- Age(float): the age of the passenger. Age could be fractional if less than 1. If the age is estimated, then the age is in form of xx.5\n",
    "\n",
    "- Sibsp(int): number of siblings/spouses abroad on Titanic\n",
    "\n",
    "- Parch(int): number of parents/children abroad on Titanic\n",
    "- Ticket(string): ticket number \n",
    "\n",
    "- Fare(float): the ticket fare of the passenger\n",
    "\n",
    "- Cabin(string): the cabin that the passenger stayed in\n",
    "\n",
    "- Embarked(string): where the passenger started the journey from (C = Cherbourg, Q = Queenstown, S = Southampton)\n",
    "\n"
   ]
  },
  {
   "cell_type": "code",
   "execution_count": 4,
   "id": "c58e4ff9",
   "metadata": {
    "execution": {
     "iopub.execute_input": "2025-07-12T11:10:20.824832Z",
     "iopub.status.busy": "2025-07-12T11:10:20.824510Z",
     "iopub.status.idle": "2025-07-12T11:10:20.829768Z",
     "shell.execute_reply": "2025-07-12T11:10:20.828977Z"
    },
    "papermill": {
     "duration": 0.015408,
     "end_time": "2025-07-12T11:10:20.831114",
     "exception": false,
     "start_time": "2025-07-12T11:10:20.815706",
     "status": "completed"
    },
    "tags": []
   },
   "outputs": [
    {
     "data": {
      "text/plain": [
       "(891, 12)"
      ]
     },
     "execution_count": 4,
     "metadata": {},
     "output_type": "execute_result"
    }
   ],
   "source": [
    "# Number of rows and columns in the dataset\n",
    "training.shape"
   ]
  },
  {
   "cell_type": "code",
   "execution_count": 5,
   "id": "d5c65ad3",
   "metadata": {
    "execution": {
     "iopub.execute_input": "2025-07-12T11:10:20.848613Z",
     "iopub.status.busy": "2025-07-12T11:10:20.847916Z",
     "iopub.status.idle": "2025-07-12T11:10:20.857313Z",
     "shell.execute_reply": "2025-07-12T11:10:20.856530Z"
    },
    "papermill": {
     "duration": 0.019593,
     "end_time": "2025-07-12T11:10:20.858681",
     "exception": false,
     "start_time": "2025-07-12T11:10:20.839088",
     "status": "completed"
    },
    "tags": []
   },
   "outputs": [
    {
     "data": {
      "text/plain": [
       "PassengerId      0\n",
       "Survived         0\n",
       "Pclass           0\n",
       "Name             0\n",
       "Sex              0\n",
       "Age            177\n",
       "SibSp            0\n",
       "Parch            0\n",
       "Ticket           0\n",
       "Fare             0\n",
       "Cabin          687\n",
       "Embarked         2\n",
       "dtype: int64"
      ]
     },
     "execution_count": 5,
     "metadata": {},
     "output_type": "execute_result"
    }
   ],
   "source": [
    "# number of empty values in each columns\n",
    "training.isna().sum()"
   ]
  },
  {
   "cell_type": "code",
   "execution_count": 6,
   "id": "2d088e68",
   "metadata": {
    "execution": {
     "iopub.execute_input": "2025-07-12T11:10:20.876273Z",
     "iopub.status.busy": "2025-07-12T11:10:20.875535Z",
     "iopub.status.idle": "2025-07-12T11:10:20.905062Z",
     "shell.execute_reply": "2025-07-12T11:10:20.904224Z"
    },
    "papermill": {
     "duration": 0.039566,
     "end_time": "2025-07-12T11:10:20.906352",
     "exception": false,
     "start_time": "2025-07-12T11:10:20.866786",
     "status": "completed"
    },
    "tags": []
   },
   "outputs": [
    {
     "data": {
      "text/html": [
       "<div>\n",
       "<style scoped>\n",
       "    .dataframe tbody tr th:only-of-type {\n",
       "        vertical-align: middle;\n",
       "    }\n",
       "\n",
       "    .dataframe tbody tr th {\n",
       "        vertical-align: top;\n",
       "    }\n",
       "\n",
       "    .dataframe thead th {\n",
       "        text-align: right;\n",
       "    }\n",
       "</style>\n",
       "<table border=\"1\" class=\"dataframe\">\n",
       "  <thead>\n",
       "    <tr style=\"text-align: right;\">\n",
       "      <th></th>\n",
       "      <th>PassengerId</th>\n",
       "      <th>Survived</th>\n",
       "      <th>Pclass</th>\n",
       "      <th>Age</th>\n",
       "      <th>SibSp</th>\n",
       "      <th>Parch</th>\n",
       "      <th>Fare</th>\n",
       "    </tr>\n",
       "  </thead>\n",
       "  <tbody>\n",
       "    <tr>\n",
       "      <th>count</th>\n",
       "      <td>891.000000</td>\n",
       "      <td>891.000000</td>\n",
       "      <td>891.000000</td>\n",
       "      <td>714.000000</td>\n",
       "      <td>891.000000</td>\n",
       "      <td>891.000000</td>\n",
       "      <td>891.000000</td>\n",
       "    </tr>\n",
       "    <tr>\n",
       "      <th>mean</th>\n",
       "      <td>446.000000</td>\n",
       "      <td>0.383838</td>\n",
       "      <td>2.308642</td>\n",
       "      <td>29.699118</td>\n",
       "      <td>0.523008</td>\n",
       "      <td>0.381594</td>\n",
       "      <td>32.204208</td>\n",
       "    </tr>\n",
       "    <tr>\n",
       "      <th>std</th>\n",
       "      <td>257.353842</td>\n",
       "      <td>0.486592</td>\n",
       "      <td>0.836071</td>\n",
       "      <td>14.526497</td>\n",
       "      <td>1.102743</td>\n",
       "      <td>0.806057</td>\n",
       "      <td>49.693429</td>\n",
       "    </tr>\n",
       "    <tr>\n",
       "      <th>min</th>\n",
       "      <td>1.000000</td>\n",
       "      <td>0.000000</td>\n",
       "      <td>1.000000</td>\n",
       "      <td>0.420000</td>\n",
       "      <td>0.000000</td>\n",
       "      <td>0.000000</td>\n",
       "      <td>0.000000</td>\n",
       "    </tr>\n",
       "    <tr>\n",
       "      <th>25%</th>\n",
       "      <td>223.500000</td>\n",
       "      <td>0.000000</td>\n",
       "      <td>2.000000</td>\n",
       "      <td>20.125000</td>\n",
       "      <td>0.000000</td>\n",
       "      <td>0.000000</td>\n",
       "      <td>7.910400</td>\n",
       "    </tr>\n",
       "    <tr>\n",
       "      <th>50%</th>\n",
       "      <td>446.000000</td>\n",
       "      <td>0.000000</td>\n",
       "      <td>3.000000</td>\n",
       "      <td>28.000000</td>\n",
       "      <td>0.000000</td>\n",
       "      <td>0.000000</td>\n",
       "      <td>14.454200</td>\n",
       "    </tr>\n",
       "    <tr>\n",
       "      <th>75%</th>\n",
       "      <td>668.500000</td>\n",
       "      <td>1.000000</td>\n",
       "      <td>3.000000</td>\n",
       "      <td>38.000000</td>\n",
       "      <td>1.000000</td>\n",
       "      <td>0.000000</td>\n",
       "      <td>31.000000</td>\n",
       "    </tr>\n",
       "    <tr>\n",
       "      <th>max</th>\n",
       "      <td>891.000000</td>\n",
       "      <td>1.000000</td>\n",
       "      <td>3.000000</td>\n",
       "      <td>80.000000</td>\n",
       "      <td>8.000000</td>\n",
       "      <td>6.000000</td>\n",
       "      <td>512.329200</td>\n",
       "    </tr>\n",
       "  </tbody>\n",
       "</table>\n",
       "</div>"
      ],
      "text/plain": [
       "       PassengerId    Survived      Pclass         Age       SibSp  \\\n",
       "count   891.000000  891.000000  891.000000  714.000000  891.000000   \n",
       "mean    446.000000    0.383838    2.308642   29.699118    0.523008   \n",
       "std     257.353842    0.486592    0.836071   14.526497    1.102743   \n",
       "min       1.000000    0.000000    1.000000    0.420000    0.000000   \n",
       "25%     223.500000    0.000000    2.000000   20.125000    0.000000   \n",
       "50%     446.000000    0.000000    3.000000   28.000000    0.000000   \n",
       "75%     668.500000    1.000000    3.000000   38.000000    1.000000   \n",
       "max     891.000000    1.000000    3.000000   80.000000    8.000000   \n",
       "\n",
       "            Parch        Fare  \n",
       "count  891.000000  891.000000  \n",
       "mean     0.381594   32.204208  \n",
       "std      0.806057   49.693429  \n",
       "min      0.000000    0.000000  \n",
       "25%      0.000000    7.910400  \n",
       "50%      0.000000   14.454200  \n",
       "75%      0.000000   31.000000  \n",
       "max      6.000000  512.329200  "
      ]
     },
     "execution_count": 6,
     "metadata": {},
     "output_type": "execute_result"
    }
   ],
   "source": [
    "# summary about the numerical data\n",
    "training.describe()"
   ]
  },
  {
   "cell_type": "code",
   "execution_count": 7,
   "id": "6d023f70",
   "metadata": {
    "execution": {
     "iopub.execute_input": "2025-07-12T11:10:20.924406Z",
     "iopub.status.busy": "2025-07-12T11:10:20.923698Z",
     "iopub.status.idle": "2025-07-12T11:10:20.941807Z",
     "shell.execute_reply": "2025-07-12T11:10:20.941071Z"
    },
    "papermill": {
     "duration": 0.028273,
     "end_time": "2025-07-12T11:10:20.943001",
     "exception": false,
     "start_time": "2025-07-12T11:10:20.914728",
     "status": "completed"
    },
    "tags": []
   },
   "outputs": [
    {
     "data": {
      "text/html": [
       "<div>\n",
       "<style scoped>\n",
       "    .dataframe tbody tr th:only-of-type {\n",
       "        vertical-align: middle;\n",
       "    }\n",
       "\n",
       "    .dataframe tbody tr th {\n",
       "        vertical-align: top;\n",
       "    }\n",
       "\n",
       "    .dataframe thead th {\n",
       "        text-align: right;\n",
       "    }\n",
       "</style>\n",
       "<table border=\"1\" class=\"dataframe\">\n",
       "  <thead>\n",
       "    <tr style=\"text-align: right;\">\n",
       "      <th></th>\n",
       "      <th>Name</th>\n",
       "      <th>Sex</th>\n",
       "      <th>Ticket</th>\n",
       "      <th>Cabin</th>\n",
       "      <th>Embarked</th>\n",
       "    </tr>\n",
       "  </thead>\n",
       "  <tbody>\n",
       "    <tr>\n",
       "      <th>count</th>\n",
       "      <td>891</td>\n",
       "      <td>891</td>\n",
       "      <td>891</td>\n",
       "      <td>204</td>\n",
       "      <td>889</td>\n",
       "    </tr>\n",
       "    <tr>\n",
       "      <th>unique</th>\n",
       "      <td>891</td>\n",
       "      <td>2</td>\n",
       "      <td>681</td>\n",
       "      <td>147</td>\n",
       "      <td>3</td>\n",
       "    </tr>\n",
       "    <tr>\n",
       "      <th>top</th>\n",
       "      <td>Braund, Mr. Owen Harris</td>\n",
       "      <td>male</td>\n",
       "      <td>347082</td>\n",
       "      <td>B96 B98</td>\n",
       "      <td>S</td>\n",
       "    </tr>\n",
       "    <tr>\n",
       "      <th>freq</th>\n",
       "      <td>1</td>\n",
       "      <td>577</td>\n",
       "      <td>7</td>\n",
       "      <td>4</td>\n",
       "      <td>644</td>\n",
       "    </tr>\n",
       "  </tbody>\n",
       "</table>\n",
       "</div>"
      ],
      "text/plain": [
       "                           Name   Sex  Ticket    Cabin Embarked\n",
       "count                       891   891     891      204      889\n",
       "unique                      891     2     681      147        3\n",
       "top     Braund, Mr. Owen Harris  male  347082  B96 B98        S\n",
       "freq                          1   577       7        4      644"
      ]
     },
     "execution_count": 7,
     "metadata": {},
     "output_type": "execute_result"
    }
   ],
   "source": [
    "# summary for categorical data\n",
    "training.describe(include=['O'])"
   ]
  },
  {
   "cell_type": "markdown",
   "id": "253cbaf6",
   "metadata": {
    "papermill": {
     "duration": 0.008163,
     "end_time": "2025-07-12T11:10:20.959774",
     "exception": false,
     "start_time": "2025-07-12T11:10:20.951611",
     "status": "completed"
    },
    "tags": []
   },
   "source": [
    "There are some irrelevant features such as PassengerId, Ticket number or Name, will be removed from the data\n",
    "\n",
    "The training data has 12 features, 891 observations (or 891 people on Titanic). There are 687 missing data in the Cabin feature, although this is an important feature in determining whether a person survived or not on Titanic (some cabins could have higher chance of surviving more than others)  \n",
    "\n",
    "For Age feature, there are 177 missing values. However, it is possible to fill these missing values in the feature. The group-based median age will be filled in. A person with missing age information will be filled in with the median age of the group that the person belonged to based on Pclass, Sex, Sib and Parch.\n",
    "\n",
    "For Embarked feature, there are 2 observations missing the values. Thus, 2 observations here will be removed."
   ]
  },
  {
   "cell_type": "code",
   "execution_count": 8,
   "id": "c77ec049",
   "metadata": {
    "execution": {
     "iopub.execute_input": "2025-07-12T11:10:20.977941Z",
     "iopub.status.busy": "2025-07-12T11:10:20.977343Z",
     "iopub.status.idle": "2025-07-12T11:10:20.987089Z",
     "shell.execute_reply": "2025-07-12T11:10:20.986341Z"
    },
    "papermill": {
     "duration": 0.02036,
     "end_time": "2025-07-12T11:10:20.988436",
     "exception": false,
     "start_time": "2025-07-12T11:10:20.968076",
     "status": "completed"
    },
    "tags": []
   },
   "outputs": [],
   "source": [
    "# drop some meaningless features\n",
    "training = training.drop(['PassengerId', 'Ticket', 'Name', 'Cabin'], axis=1)"
   ]
  },
  {
   "cell_type": "code",
   "execution_count": 9,
   "id": "0edf4c84",
   "metadata": {
    "execution": {
     "iopub.execute_input": "2025-07-12T11:10:21.006361Z",
     "iopub.status.busy": "2025-07-12T11:10:21.006014Z",
     "iopub.status.idle": "2025-07-12T11:10:21.022603Z",
     "shell.execute_reply": "2025-07-12T11:10:21.021657Z"
    },
    "papermill": {
     "duration": 0.027116,
     "end_time": "2025-07-12T11:10:21.023945",
     "exception": false,
     "start_time": "2025-07-12T11:10:20.996829",
     "status": "completed"
    },
    "tags": []
   },
   "outputs": [
    {
     "name": "stderr",
     "output_type": "stream",
     "text": [
      "/usr/local/lib/python3.11/dist-packages/pandas/io/formats/format.py:1458: RuntimeWarning: invalid value encountered in greater\n",
      "  has_large_values = (abs_vals > 1e6).any()\n",
      "/usr/local/lib/python3.11/dist-packages/pandas/io/formats/format.py:1459: RuntimeWarning: invalid value encountered in less\n",
      "  has_small_values = ((abs_vals < 10 ** (-self.digits)) & (abs_vals > 0)).any()\n",
      "/usr/local/lib/python3.11/dist-packages/pandas/io/formats/format.py:1459: RuntimeWarning: invalid value encountered in greater\n",
      "  has_small_values = ((abs_vals < 10 ** (-self.digits)) & (abs_vals > 0)).any()\n"
     ]
    },
    {
     "data": {
      "text/html": [
       "<div>\n",
       "<style scoped>\n",
       "    .dataframe tbody tr th:only-of-type {\n",
       "        vertical-align: middle;\n",
       "    }\n",
       "\n",
       "    .dataframe tbody tr th {\n",
       "        vertical-align: top;\n",
       "    }\n",
       "\n",
       "    .dataframe thead th {\n",
       "        text-align: right;\n",
       "    }\n",
       "</style>\n",
       "<table border=\"1\" class=\"dataframe\">\n",
       "  <thead>\n",
       "    <tr style=\"text-align: right;\">\n",
       "      <th></th>\n",
       "      <th>Survived</th>\n",
       "      <th>Pclass</th>\n",
       "      <th>Sex</th>\n",
       "      <th>Age</th>\n",
       "      <th>SibSp</th>\n",
       "      <th>Parch</th>\n",
       "      <th>Fare</th>\n",
       "      <th>Embarked</th>\n",
       "    </tr>\n",
       "  </thead>\n",
       "  <tbody>\n",
       "    <tr>\n",
       "      <th>0</th>\n",
       "      <td>0</td>\n",
       "      <td>3</td>\n",
       "      <td>male</td>\n",
       "      <td>22.0</td>\n",
       "      <td>1</td>\n",
       "      <td>0</td>\n",
       "      <td>7.2500</td>\n",
       "      <td>S</td>\n",
       "    </tr>\n",
       "    <tr>\n",
       "      <th>1</th>\n",
       "      <td>1</td>\n",
       "      <td>1</td>\n",
       "      <td>female</td>\n",
       "      <td>38.0</td>\n",
       "      <td>1</td>\n",
       "      <td>0</td>\n",
       "      <td>71.2833</td>\n",
       "      <td>C</td>\n",
       "    </tr>\n",
       "    <tr>\n",
       "      <th>2</th>\n",
       "      <td>1</td>\n",
       "      <td>3</td>\n",
       "      <td>female</td>\n",
       "      <td>26.0</td>\n",
       "      <td>0</td>\n",
       "      <td>0</td>\n",
       "      <td>7.9250</td>\n",
       "      <td>S</td>\n",
       "    </tr>\n",
       "    <tr>\n",
       "      <th>3</th>\n",
       "      <td>1</td>\n",
       "      <td>1</td>\n",
       "      <td>female</td>\n",
       "      <td>35.0</td>\n",
       "      <td>1</td>\n",
       "      <td>0</td>\n",
       "      <td>53.1000</td>\n",
       "      <td>S</td>\n",
       "    </tr>\n",
       "    <tr>\n",
       "      <th>4</th>\n",
       "      <td>0</td>\n",
       "      <td>3</td>\n",
       "      <td>male</td>\n",
       "      <td>35.0</td>\n",
       "      <td>0</td>\n",
       "      <td>0</td>\n",
       "      <td>8.0500</td>\n",
       "      <td>S</td>\n",
       "    </tr>\n",
       "    <tr>\n",
       "      <th>...</th>\n",
       "      <td>...</td>\n",
       "      <td>...</td>\n",
       "      <td>...</td>\n",
       "      <td>...</td>\n",
       "      <td>...</td>\n",
       "      <td>...</td>\n",
       "      <td>...</td>\n",
       "      <td>...</td>\n",
       "    </tr>\n",
       "    <tr>\n",
       "      <th>886</th>\n",
       "      <td>0</td>\n",
       "      <td>2</td>\n",
       "      <td>male</td>\n",
       "      <td>27.0</td>\n",
       "      <td>0</td>\n",
       "      <td>0</td>\n",
       "      <td>13.0000</td>\n",
       "      <td>S</td>\n",
       "    </tr>\n",
       "    <tr>\n",
       "      <th>887</th>\n",
       "      <td>1</td>\n",
       "      <td>1</td>\n",
       "      <td>female</td>\n",
       "      <td>19.0</td>\n",
       "      <td>0</td>\n",
       "      <td>0</td>\n",
       "      <td>30.0000</td>\n",
       "      <td>S</td>\n",
       "    </tr>\n",
       "    <tr>\n",
       "      <th>888</th>\n",
       "      <td>0</td>\n",
       "      <td>3</td>\n",
       "      <td>female</td>\n",
       "      <td>NaN</td>\n",
       "      <td>1</td>\n",
       "      <td>2</td>\n",
       "      <td>23.4500</td>\n",
       "      <td>S</td>\n",
       "    </tr>\n",
       "    <tr>\n",
       "      <th>889</th>\n",
       "      <td>1</td>\n",
       "      <td>1</td>\n",
       "      <td>male</td>\n",
       "      <td>26.0</td>\n",
       "      <td>0</td>\n",
       "      <td>0</td>\n",
       "      <td>30.0000</td>\n",
       "      <td>C</td>\n",
       "    </tr>\n",
       "    <tr>\n",
       "      <th>890</th>\n",
       "      <td>0</td>\n",
       "      <td>3</td>\n",
       "      <td>male</td>\n",
       "      <td>32.0</td>\n",
       "      <td>0</td>\n",
       "      <td>0</td>\n",
       "      <td>7.7500</td>\n",
       "      <td>Q</td>\n",
       "    </tr>\n",
       "  </tbody>\n",
       "</table>\n",
       "<p>889 rows × 8 columns</p>\n",
       "</div>"
      ],
      "text/plain": [
       "     Survived  Pclass     Sex   Age  SibSp  Parch     Fare Embarked\n",
       "0           0       3    male  22.0      1      0   7.2500        S\n",
       "1           1       1  female  38.0      1      0  71.2833        C\n",
       "2           1       3  female  26.0      0      0   7.9250        S\n",
       "3           1       1  female  35.0      1      0  53.1000        S\n",
       "4           0       3    male  35.0      0      0   8.0500        S\n",
       "..        ...     ...     ...   ...    ...    ...      ...      ...\n",
       "886         0       2    male  27.0      0      0  13.0000        S\n",
       "887         1       1  female  19.0      0      0  30.0000        S\n",
       "888         0       3  female   NaN      1      2  23.4500        S\n",
       "889         1       1    male  26.0      0      0  30.0000        C\n",
       "890         0       3    male  32.0      0      0   7.7500        Q\n",
       "\n",
       "[889 rows x 8 columns]"
      ]
     },
     "execution_count": 9,
     "metadata": {},
     "output_type": "execute_result"
    }
   ],
   "source": [
    "# drop 2 empty Embarked rows\n",
    "training = training.dropna(subset=['Embarked'])\n",
    "training"
   ]
  },
  {
   "cell_type": "code",
   "execution_count": 10,
   "id": "9df0a2ef",
   "metadata": {
    "execution": {
     "iopub.execute_input": "2025-07-12T11:10:21.043058Z",
     "iopub.status.busy": "2025-07-12T11:10:21.042730Z",
     "iopub.status.idle": "2025-07-12T11:10:21.086125Z",
     "shell.execute_reply": "2025-07-12T11:10:21.085186Z"
    },
    "papermill": {
     "duration": 0.054422,
     "end_time": "2025-07-12T11:10:21.087588",
     "exception": false,
     "start_time": "2025-07-12T11:10:21.033166",
     "status": "completed"
    },
    "tags": []
   },
   "outputs": [
    {
     "name": "stdout",
     "output_type": "stream",
     "text": [
      "Pclass  Sex   \n",
      "1       female    35.0\n",
      "        male      40.0\n",
      "2       female    28.0\n",
      "        male      30.0\n",
      "3       female    21.5\n",
      "        male      25.0\n",
      "Name: Age, dtype: float64\n"
     ]
    }
   ],
   "source": [
    "# create a function to fill in the missing age values the median age based on Pclass and Sex groups.\n",
    "median_age = training.groupby(['Pclass','Sex'])['Age'].median()\n",
    "print(median_age)\n",
    "\n",
    "def fill_missing_age(row):\n",
    "    # fill in the missing age from the training dataset\n",
    "    if pd.isnull(row['Age']):\n",
    "        return median_age.loc[row['Pclass'], row['Sex']]\n",
    "    return row['Age']\n",
    "\n",
    "training['Age']=training.apply(fill_missing_age, axis=1)\n",
    "# we do not use SibSp or Parch because they are not strong predictors related to age, such as passengers with same number of SibSp can vary in age. Additionally, there are too many 0 in these values, so making the group of data becomes unreliable"
   ]
  },
  {
   "cell_type": "code",
   "execution_count": 11,
   "id": "f9c24803",
   "metadata": {
    "execution": {
     "iopub.execute_input": "2025-07-12T11:10:21.167964Z",
     "iopub.status.busy": "2025-07-12T11:10:21.167386Z",
     "iopub.status.idle": "2025-07-12T11:10:21.174184Z",
     "shell.execute_reply": "2025-07-12T11:10:21.173411Z"
    },
    "papermill": {
     "duration": 0.018413,
     "end_time": "2025-07-12T11:10:21.175562",
     "exception": false,
     "start_time": "2025-07-12T11:10:21.157149",
     "status": "completed"
    },
    "tags": []
   },
   "outputs": [],
   "source": [
    "#convert sex to integer and merge it to the main training set\n",
    "training_encoded=pd.get_dummies(training['Sex'], dtype=int)\n",
    "frames=[training, training_encoded]\n",
    "training=pd.concat(frames, axis=1)"
   ]
  },
  {
   "cell_type": "code",
   "execution_count": 12,
   "id": "d8cfcc66",
   "metadata": {
    "execution": {
     "iopub.execute_input": "2025-07-12T11:10:21.194743Z",
     "iopub.status.busy": "2025-07-12T11:10:21.194007Z",
     "iopub.status.idle": "2025-07-12T11:10:21.200669Z",
     "shell.execute_reply": "2025-07-12T11:10:21.199884Z"
    },
    "papermill": {
     "duration": 0.017724,
     "end_time": "2025-07-12T11:10:21.202119",
     "exception": false,
     "start_time": "2025-07-12T11:10:21.184395",
     "status": "completed"
    },
    "tags": []
   },
   "outputs": [],
   "source": [
    "#convert embarked to integer and merge it to the main training set\n",
    "embarked_encoded=pd.get_dummies(training['Embarked'], dtype=int)\n",
    "frames=[training, embarked_encoded]\n",
    "training=pd.concat(frames, axis=1)"
   ]
  },
  {
   "cell_type": "code",
   "execution_count": 13,
   "id": "26919bdb",
   "metadata": {
    "execution": {
     "iopub.execute_input": "2025-07-12T11:10:21.221513Z",
     "iopub.status.busy": "2025-07-12T11:10:21.220964Z",
     "iopub.status.idle": "2025-07-12T11:10:21.225760Z",
     "shell.execute_reply": "2025-07-12T11:10:21.224989Z"
    },
    "papermill": {
     "duration": 0.015791,
     "end_time": "2025-07-12T11:10:21.227014",
     "exception": false,
     "start_time": "2025-07-12T11:10:21.211223",
     "status": "completed"
    },
    "tags": []
   },
   "outputs": [],
   "source": [
    "# drop 2 features after encoded\n",
    "training=training.drop([\"Sex\", \"Embarked\"], axis=1)"
   ]
  },
  {
   "cell_type": "code",
   "execution_count": 14,
   "id": "2d23bf43",
   "metadata": {
    "execution": {
     "iopub.execute_input": "2025-07-12T11:10:21.245841Z",
     "iopub.status.busy": "2025-07-12T11:10:21.245579Z",
     "iopub.status.idle": "2025-07-12T11:10:21.250804Z",
     "shell.execute_reply": "2025-07-12T11:10:21.250190Z"
    },
    "papermill": {
     "duration": 0.016066,
     "end_time": "2025-07-12T11:10:21.251991",
     "exception": false,
     "start_time": "2025-07-12T11:10:21.235925",
     "status": "completed"
    },
    "tags": []
   },
   "outputs": [],
   "source": [
    "X=training.iloc[:,1:]\n",
    "y=training[['Survived']]"
   ]
  },
  {
   "cell_type": "markdown",
   "id": "a67b229b",
   "metadata": {
    "papermill": {
     "duration": 0.008603,
     "end_time": "2025-07-12T11:10:21.269660",
     "exception": false,
     "start_time": "2025-07-12T11:10:21.261057",
     "status": "completed"
    },
    "tags": []
   },
   "source": [
    "After cleaning the data, we will split the data into training and validation sets"
   ]
  },
  {
   "cell_type": "code",
   "execution_count": 15,
   "id": "4017ef09",
   "metadata": {
    "execution": {
     "iopub.execute_input": "2025-07-12T11:10:21.288907Z",
     "iopub.status.busy": "2025-07-12T11:10:21.288624Z",
     "iopub.status.idle": "2025-07-12T11:10:22.663157Z",
     "shell.execute_reply": "2025-07-12T11:10:22.662473Z"
    },
    "papermill": {
     "duration": 1.385931,
     "end_time": "2025-07-12T11:10:22.664731",
     "exception": false,
     "start_time": "2025-07-12T11:10:21.278800",
     "status": "completed"
    },
    "tags": []
   },
   "outputs": [],
   "source": [
    "# split the data into training and validation sets\n",
    "from sklearn.model_selection import train_test_split\n",
    "X_train, X_val, y_train, y_val = train_test_split(X,y, test_size=0.2)"
   ]
  },
  {
   "cell_type": "markdown",
   "id": "a4d24b86",
   "metadata": {
    "papermill": {
     "duration": 0.008611,
     "end_time": "2025-07-12T11:10:22.682368",
     "exception": false,
     "start_time": "2025-07-12T11:10:22.673757",
     "status": "completed"
    },
    "tags": []
   },
   "source": [
    "# **2. \"Cleaning\" the testing data**"
   ]
  },
  {
   "cell_type": "code",
   "execution_count": 16,
   "id": "b26ae7d6",
   "metadata": {
    "execution": {
     "iopub.execute_input": "2025-07-12T11:10:22.701499Z",
     "iopub.status.busy": "2025-07-12T11:10:22.701069Z",
     "iopub.status.idle": "2025-07-12T11:10:22.713074Z",
     "shell.execute_reply": "2025-07-12T11:10:22.712400Z"
    },
    "papermill": {
     "duration": 0.023234,
     "end_time": "2025-07-12T11:10:22.714290",
     "exception": false,
     "start_time": "2025-07-12T11:10:22.691056",
     "status": "completed"
    },
    "tags": []
   },
   "outputs": [
    {
     "data": {
      "text/html": [
       "<div>\n",
       "<style scoped>\n",
       "    .dataframe tbody tr th:only-of-type {\n",
       "        vertical-align: middle;\n",
       "    }\n",
       "\n",
       "    .dataframe tbody tr th {\n",
       "        vertical-align: top;\n",
       "    }\n",
       "\n",
       "    .dataframe thead th {\n",
       "        text-align: right;\n",
       "    }\n",
       "</style>\n",
       "<table border=\"1\" class=\"dataframe\">\n",
       "  <thead>\n",
       "    <tr style=\"text-align: right;\">\n",
       "      <th></th>\n",
       "      <th>PassengerId</th>\n",
       "      <th>Pclass</th>\n",
       "      <th>Name</th>\n",
       "      <th>Sex</th>\n",
       "      <th>Age</th>\n",
       "      <th>SibSp</th>\n",
       "      <th>Parch</th>\n",
       "      <th>Ticket</th>\n",
       "      <th>Fare</th>\n",
       "      <th>Cabin</th>\n",
       "      <th>Embarked</th>\n",
       "    </tr>\n",
       "  </thead>\n",
       "  <tbody>\n",
       "    <tr>\n",
       "      <th>0</th>\n",
       "      <td>892</td>\n",
       "      <td>3</td>\n",
       "      <td>Kelly, Mr. James</td>\n",
       "      <td>male</td>\n",
       "      <td>34.5</td>\n",
       "      <td>0</td>\n",
       "      <td>0</td>\n",
       "      <td>330911</td>\n",
       "      <td>7.8292</td>\n",
       "      <td>NaN</td>\n",
       "      <td>Q</td>\n",
       "    </tr>\n",
       "    <tr>\n",
       "      <th>1</th>\n",
       "      <td>893</td>\n",
       "      <td>3</td>\n",
       "      <td>Wilkes, Mrs. James (Ellen Needs)</td>\n",
       "      <td>female</td>\n",
       "      <td>47.0</td>\n",
       "      <td>1</td>\n",
       "      <td>0</td>\n",
       "      <td>363272</td>\n",
       "      <td>7.0000</td>\n",
       "      <td>NaN</td>\n",
       "      <td>S</td>\n",
       "    </tr>\n",
       "    <tr>\n",
       "      <th>2</th>\n",
       "      <td>894</td>\n",
       "      <td>2</td>\n",
       "      <td>Myles, Mr. Thomas Francis</td>\n",
       "      <td>male</td>\n",
       "      <td>62.0</td>\n",
       "      <td>0</td>\n",
       "      <td>0</td>\n",
       "      <td>240276</td>\n",
       "      <td>9.6875</td>\n",
       "      <td>NaN</td>\n",
       "      <td>Q</td>\n",
       "    </tr>\n",
       "    <tr>\n",
       "      <th>3</th>\n",
       "      <td>895</td>\n",
       "      <td>3</td>\n",
       "      <td>Wirz, Mr. Albert</td>\n",
       "      <td>male</td>\n",
       "      <td>27.0</td>\n",
       "      <td>0</td>\n",
       "      <td>0</td>\n",
       "      <td>315154</td>\n",
       "      <td>8.6625</td>\n",
       "      <td>NaN</td>\n",
       "      <td>S</td>\n",
       "    </tr>\n",
       "    <tr>\n",
       "      <th>4</th>\n",
       "      <td>896</td>\n",
       "      <td>3</td>\n",
       "      <td>Hirvonen, Mrs. Alexander (Helga E Lindqvist)</td>\n",
       "      <td>female</td>\n",
       "      <td>22.0</td>\n",
       "      <td>1</td>\n",
       "      <td>1</td>\n",
       "      <td>3101298</td>\n",
       "      <td>12.2875</td>\n",
       "      <td>NaN</td>\n",
       "      <td>S</td>\n",
       "    </tr>\n",
       "  </tbody>\n",
       "</table>\n",
       "</div>"
      ],
      "text/plain": [
       "   PassengerId  Pclass                                          Name     Sex  \\\n",
       "0          892       3                              Kelly, Mr. James    male   \n",
       "1          893       3              Wilkes, Mrs. James (Ellen Needs)  female   \n",
       "2          894       2                     Myles, Mr. Thomas Francis    male   \n",
       "3          895       3                              Wirz, Mr. Albert    male   \n",
       "4          896       3  Hirvonen, Mrs. Alexander (Helga E Lindqvist)  female   \n",
       "\n",
       "    Age  SibSp  Parch   Ticket     Fare Cabin Embarked  \n",
       "0  34.5      0      0   330911   7.8292   NaN        Q  \n",
       "1  47.0      1      0   363272   7.0000   NaN        S  \n",
       "2  62.0      0      0   240276   9.6875   NaN        Q  \n",
       "3  27.0      0      0   315154   8.6625   NaN        S  \n",
       "4  22.0      1      1  3101298  12.2875   NaN        S  "
      ]
     },
     "execution_count": 16,
     "metadata": {},
     "output_type": "execute_result"
    }
   ],
   "source": [
    "testing.head()"
   ]
  },
  {
   "cell_type": "code",
   "execution_count": 17,
   "id": "012b0996",
   "metadata": {
    "execution": {
     "iopub.execute_input": "2025-07-12T11:10:22.733926Z",
     "iopub.status.busy": "2025-07-12T11:10:22.733368Z",
     "iopub.status.idle": "2025-07-12T11:10:22.739830Z",
     "shell.execute_reply": "2025-07-12T11:10:22.739099Z"
    },
    "papermill": {
     "duration": 0.01757,
     "end_time": "2025-07-12T11:10:22.740984",
     "exception": false,
     "start_time": "2025-07-12T11:10:22.723414",
     "status": "completed"
    },
    "tags": []
   },
   "outputs": [
    {
     "data": {
      "text/plain": [
       "PassengerId      0\n",
       "Pclass           0\n",
       "Name             0\n",
       "Sex              0\n",
       "Age             86\n",
       "SibSp            0\n",
       "Parch            0\n",
       "Ticket           0\n",
       "Fare             1\n",
       "Cabin          327\n",
       "Embarked         0\n",
       "dtype: int64"
      ]
     },
     "execution_count": 17,
     "metadata": {},
     "output_type": "execute_result"
    }
   ],
   "source": [
    "# check if we have any missing values\n",
    "testing.isna().sum()"
   ]
  },
  {
   "cell_type": "markdown",
   "id": "d18399ac",
   "metadata": {
    "papermill": {
     "duration": 0.009226,
     "end_time": "2025-07-12T11:10:22.759598",
     "exception": false,
     "start_time": "2025-07-12T11:10:22.750372",
     "status": "completed"
    },
    "tags": []
   },
   "source": [
    "For testing data, as we need 418 observations to check the result, we will need to fill in one missing Fare values using Pclass"
   ]
  },
  {
   "cell_type": "code",
   "execution_count": 18,
   "id": "945792ae",
   "metadata": {
    "execution": {
     "iopub.execute_input": "2025-07-12T11:10:22.779297Z",
     "iopub.status.busy": "2025-07-12T11:10:22.778642Z",
     "iopub.status.idle": "2025-07-12T11:10:22.784343Z",
     "shell.execute_reply": "2025-07-12T11:10:22.783661Z"
    },
    "papermill": {
     "duration": 0.01695,
     "end_time": "2025-07-12T11:10:22.785542",
     "exception": false,
     "start_time": "2025-07-12T11:10:22.768592",
     "status": "completed"
    },
    "tags": []
   },
   "outputs": [],
   "source": [
    "# create a function to fill in the fare based on Pclass\n",
    "median_fare = training.groupby(['Pclass'])['Fare'].median()\n",
    "\n",
    "def fill_missing_fare(row):\n",
    "    # fill in the missing age from the training dataset\n",
    "    if pd.isnull(row['Fare']):\n",
    "        return median_fare.loc[row['Pclass']]\n",
    "    return row['Fare']\n"
   ]
  },
  {
   "cell_type": "code",
   "execution_count": 19,
   "id": "eeb1b4f8",
   "metadata": {
    "execution": {
     "iopub.execute_input": "2025-07-12T11:10:22.805061Z",
     "iopub.status.busy": "2025-07-12T11:10:22.804757Z",
     "iopub.status.idle": "2025-07-12T11:10:22.810428Z",
     "shell.execute_reply": "2025-07-12T11:10:22.809790Z"
    },
    "papermill": {
     "duration": 0.016781,
     "end_time": "2025-07-12T11:10:22.811654",
     "exception": false,
     "start_time": "2025-07-12T11:10:22.794873",
     "status": "completed"
    },
    "tags": []
   },
   "outputs": [],
   "source": [
    "# build a function to clean the testing dataset\n",
    "def clean_data(file):\n",
    "    # drop unnescessary column\n",
    "    testing1=file.drop(['Ticket', 'Name', 'Cabin'], axis=1)\n",
    "    # fill in missing ages\n",
    "    testing1['Age']=testing1.apply(fill_missing_age, axis=1)\n",
    "    # fill in missing fare\n",
    "    testing1['Fare']=testing.apply(fill_missing_fare, axis=1)\n",
    "    #convert sex to integer and merge it to the main training set\n",
    "    sex_encoded=pd.get_dummies(testing1['Sex'], dtype=int)\n",
    "    frames=[testing1, sex_encoded]\n",
    "    testing1=pd.concat(frames, axis=1)\n",
    "    #convert embarked to integer and merge it to the main training set\n",
    "    embarked_encoded=pd.get_dummies(testing1['Embarked'], dtype=int)\n",
    "    frames=[testing1, embarked_encoded]\n",
    "    testing1=pd.concat(frames, axis=1)\n",
    "    # drop 2 columns after encoded\n",
    "    testing1=testing1.drop(['Sex', 'Embarked'], axis=1)\n",
    "    return testing1\n",
    "    "
   ]
  },
  {
   "cell_type": "code",
   "execution_count": 20,
   "id": "cf8e44dc",
   "metadata": {
    "execution": {
     "iopub.execute_input": "2025-07-12T11:10:22.830996Z",
     "iopub.status.busy": "2025-07-12T11:10:22.830416Z",
     "iopub.status.idle": "2025-07-12T11:10:22.850455Z",
     "shell.execute_reply": "2025-07-12T11:10:22.849819Z"
    },
    "papermill": {
     "duration": 0.031011,
     "end_time": "2025-07-12T11:10:22.851782",
     "exception": false,
     "start_time": "2025-07-12T11:10:22.820771",
     "status": "completed"
    },
    "tags": []
   },
   "outputs": [],
   "source": [
    "test=clean_data(testing)"
   ]
  },
  {
   "cell_type": "code",
   "execution_count": 21,
   "id": "b3afcfc2",
   "metadata": {
    "execution": {
     "iopub.execute_input": "2025-07-12T11:10:22.871585Z",
     "iopub.status.busy": "2025-07-12T11:10:22.870976Z",
     "iopub.status.idle": "2025-07-12T11:10:22.875378Z",
     "shell.execute_reply": "2025-07-12T11:10:22.874727Z"
    },
    "papermill": {
     "duration": 0.015495,
     "end_time": "2025-07-12T11:10:22.876638",
     "exception": false,
     "start_time": "2025-07-12T11:10:22.861143",
     "status": "completed"
    },
    "tags": []
   },
   "outputs": [],
   "source": [
    "X_test=test.iloc[:,1:]\n",
    "passengerId=test.iloc[:,0]"
   ]
  },
  {
   "cell_type": "markdown",
   "id": "47a3de1e",
   "metadata": {
    "papermill": {
     "duration": 0.009948,
     "end_time": "2025-07-12T11:10:22.895804",
     "exception": false,
     "start_time": "2025-07-12T11:10:22.885856",
     "status": "completed"
    },
    "tags": []
   },
   "source": [
    "# **3. Build the classification model on standard Support Vector Machine**"
   ]
  },
  {
   "cell_type": "markdown",
   "id": "c8c5a24f",
   "metadata": {
    "papermill": {
     "duration": 0.008715,
     "end_time": "2025-07-12T11:10:22.913671",
     "exception": false,
     "start_time": "2025-07-12T11:10:22.904956",
     "status": "completed"
    },
    "tags": []
   },
   "source": [
    "We will first try with support vector machine SVC to see how the model perform classification. We will use the standard initialisation from SVC"
   ]
  },
  {
   "cell_type": "code",
   "execution_count": 22,
   "id": "2aee8604",
   "metadata": {
    "execution": {
     "iopub.execute_input": "2025-07-12T11:10:22.933453Z",
     "iopub.status.busy": "2025-07-12T11:10:22.932700Z",
     "iopub.status.idle": "2025-07-12T11:10:23.035838Z",
     "shell.execute_reply": "2025-07-12T11:10:23.035075Z"
    },
    "papermill": {
     "duration": 0.114563,
     "end_time": "2025-07-12T11:10:23.037409",
     "exception": false,
     "start_time": "2025-07-12T11:10:22.922846",
     "status": "completed"
    },
    "tags": []
   },
   "outputs": [],
   "source": [
    "from sklearn.svm import SVC\n",
    "from sklearn.preprocessing import StandardScaler\n",
    "from sklearn.pipeline import make_pipeline\n",
    "from sklearn.metrics import accuracy_score, ConfusionMatrixDisplay, confusion_matrix"
   ]
  },
  {
   "cell_type": "code",
   "execution_count": 23,
   "id": "462e3418",
   "metadata": {
    "execution": {
     "iopub.execute_input": "2025-07-12T11:10:23.057766Z",
     "iopub.status.busy": "2025-07-12T11:10:23.057018Z",
     "iopub.status.idle": "2025-07-12T11:10:23.060964Z",
     "shell.execute_reply": "2025-07-12T11:10:23.060260Z"
    },
    "papermill": {
     "duration": 0.015498,
     "end_time": "2025-07-12T11:10:23.062300",
     "exception": false,
     "start_time": "2025-07-12T11:10:23.046802",
     "status": "completed"
    },
    "tags": []
   },
   "outputs": [],
   "source": [
    "#create the pipeline\n",
    "svc_pipeline = make_pipeline(StandardScaler(), SVC())"
   ]
  },
  {
   "cell_type": "code",
   "execution_count": 24,
   "id": "e7b49c53",
   "metadata": {
    "execution": {
     "iopub.execute_input": "2025-07-12T11:10:23.082688Z",
     "iopub.status.busy": "2025-07-12T11:10:23.082139Z",
     "iopub.status.idle": "2025-07-12T11:10:23.112803Z",
     "shell.execute_reply": "2025-07-12T11:10:23.111997Z"
    },
    "papermill": {
     "duration": 0.04228,
     "end_time": "2025-07-12T11:10:23.114263",
     "exception": false,
     "start_time": "2025-07-12T11:10:23.071983",
     "status": "completed"
    },
    "tags": []
   },
   "outputs": [
    {
     "data": {
      "text/html": [
       "<style>#sk-container-id-1 {color: black;background-color: white;}#sk-container-id-1 pre{padding: 0;}#sk-container-id-1 div.sk-toggleable {background-color: white;}#sk-container-id-1 label.sk-toggleable__label {cursor: pointer;display: block;width: 100%;margin-bottom: 0;padding: 0.3em;box-sizing: border-box;text-align: center;}#sk-container-id-1 label.sk-toggleable__label-arrow:before {content: \"▸\";float: left;margin-right: 0.25em;color: #696969;}#sk-container-id-1 label.sk-toggleable__label-arrow:hover:before {color: black;}#sk-container-id-1 div.sk-estimator:hover label.sk-toggleable__label-arrow:before {color: black;}#sk-container-id-1 div.sk-toggleable__content {max-height: 0;max-width: 0;overflow: hidden;text-align: left;background-color: #f0f8ff;}#sk-container-id-1 div.sk-toggleable__content pre {margin: 0.2em;color: black;border-radius: 0.25em;background-color: #f0f8ff;}#sk-container-id-1 input.sk-toggleable__control:checked~div.sk-toggleable__content {max-height: 200px;max-width: 100%;overflow: auto;}#sk-container-id-1 input.sk-toggleable__control:checked~label.sk-toggleable__label-arrow:before {content: \"▾\";}#sk-container-id-1 div.sk-estimator input.sk-toggleable__control:checked~label.sk-toggleable__label {background-color: #d4ebff;}#sk-container-id-1 div.sk-label input.sk-toggleable__control:checked~label.sk-toggleable__label {background-color: #d4ebff;}#sk-container-id-1 input.sk-hidden--visually {border: 0;clip: rect(1px 1px 1px 1px);clip: rect(1px, 1px, 1px, 1px);height: 1px;margin: -1px;overflow: hidden;padding: 0;position: absolute;width: 1px;}#sk-container-id-1 div.sk-estimator {font-family: monospace;background-color: #f0f8ff;border: 1px dotted black;border-radius: 0.25em;box-sizing: border-box;margin-bottom: 0.5em;}#sk-container-id-1 div.sk-estimator:hover {background-color: #d4ebff;}#sk-container-id-1 div.sk-parallel-item::after {content: \"\";width: 100%;border-bottom: 1px solid gray;flex-grow: 1;}#sk-container-id-1 div.sk-label:hover label.sk-toggleable__label {background-color: #d4ebff;}#sk-container-id-1 div.sk-serial::before {content: \"\";position: absolute;border-left: 1px solid gray;box-sizing: border-box;top: 0;bottom: 0;left: 50%;z-index: 0;}#sk-container-id-1 div.sk-serial {display: flex;flex-direction: column;align-items: center;background-color: white;padding-right: 0.2em;padding-left: 0.2em;position: relative;}#sk-container-id-1 div.sk-item {position: relative;z-index: 1;}#sk-container-id-1 div.sk-parallel {display: flex;align-items: stretch;justify-content: center;background-color: white;position: relative;}#sk-container-id-1 div.sk-item::before, #sk-container-id-1 div.sk-parallel-item::before {content: \"\";position: absolute;border-left: 1px solid gray;box-sizing: border-box;top: 0;bottom: 0;left: 50%;z-index: -1;}#sk-container-id-1 div.sk-parallel-item {display: flex;flex-direction: column;z-index: 1;position: relative;background-color: white;}#sk-container-id-1 div.sk-parallel-item:first-child::after {align-self: flex-end;width: 50%;}#sk-container-id-1 div.sk-parallel-item:last-child::after {align-self: flex-start;width: 50%;}#sk-container-id-1 div.sk-parallel-item:only-child::after {width: 0;}#sk-container-id-1 div.sk-dashed-wrapped {border: 1px dashed gray;margin: 0 0.4em 0.5em 0.4em;box-sizing: border-box;padding-bottom: 0.4em;background-color: white;}#sk-container-id-1 div.sk-label label {font-family: monospace;font-weight: bold;display: inline-block;line-height: 1.2em;}#sk-container-id-1 div.sk-label-container {text-align: center;}#sk-container-id-1 div.sk-container {/* jupyter's `normalize.less` sets `[hidden] { display: none; }` but bootstrap.min.css set `[hidden] { display: none !important; }` so we also need the `!important` here to be able to override the default hidden behavior on the sphinx rendered scikit-learn.org. See: https://github.com/scikit-learn/scikit-learn/issues/21755 */display: inline-block !important;position: relative;}#sk-container-id-1 div.sk-text-repr-fallback {display: none;}</style><div id=\"sk-container-id-1\" class=\"sk-top-container\"><div class=\"sk-text-repr-fallback\"><pre>Pipeline(steps=[(&#x27;standardscaler&#x27;, StandardScaler()), (&#x27;svc&#x27;, SVC())])</pre><b>In a Jupyter environment, please rerun this cell to show the HTML representation or trust the notebook. <br />On GitHub, the HTML representation is unable to render, please try loading this page with nbviewer.org.</b></div><div class=\"sk-container\" hidden><div class=\"sk-item sk-dashed-wrapped\"><div class=\"sk-label-container\"><div class=\"sk-label sk-toggleable\"><input class=\"sk-toggleable__control sk-hidden--visually\" id=\"sk-estimator-id-1\" type=\"checkbox\" ><label for=\"sk-estimator-id-1\" class=\"sk-toggleable__label sk-toggleable__label-arrow\">Pipeline</label><div class=\"sk-toggleable__content\"><pre>Pipeline(steps=[(&#x27;standardscaler&#x27;, StandardScaler()), (&#x27;svc&#x27;, SVC())])</pre></div></div></div><div class=\"sk-serial\"><div class=\"sk-item\"><div class=\"sk-estimator sk-toggleable\"><input class=\"sk-toggleable__control sk-hidden--visually\" id=\"sk-estimator-id-2\" type=\"checkbox\" ><label for=\"sk-estimator-id-2\" class=\"sk-toggleable__label sk-toggleable__label-arrow\">StandardScaler</label><div class=\"sk-toggleable__content\"><pre>StandardScaler()</pre></div></div></div><div class=\"sk-item\"><div class=\"sk-estimator sk-toggleable\"><input class=\"sk-toggleable__control sk-hidden--visually\" id=\"sk-estimator-id-3\" type=\"checkbox\" ><label for=\"sk-estimator-id-3\" class=\"sk-toggleable__label sk-toggleable__label-arrow\">SVC</label><div class=\"sk-toggleable__content\"><pre>SVC()</pre></div></div></div></div></div></div></div>"
      ],
      "text/plain": [
       "Pipeline(steps=[('standardscaler', StandardScaler()), ('svc', SVC())])"
      ]
     },
     "execution_count": 24,
     "metadata": {},
     "output_type": "execute_result"
    }
   ],
   "source": [
    "svc_pipeline.fit(X_train, y_train.values.reshape(-1))"
   ]
  },
  {
   "cell_type": "code",
   "execution_count": 25,
   "id": "17815b0d",
   "metadata": {
    "execution": {
     "iopub.execute_input": "2025-07-12T11:10:23.135308Z",
     "iopub.status.busy": "2025-07-12T11:10:23.134964Z",
     "iopub.status.idle": "2025-07-12T11:10:23.144846Z",
     "shell.execute_reply": "2025-07-12T11:10:23.144002Z"
    },
    "papermill": {
     "duration": 0.022133,
     "end_time": "2025-07-12T11:10:23.146494",
     "exception": false,
     "start_time": "2025-07-12T11:10:23.124361",
     "status": "completed"
    },
    "tags": []
   },
   "outputs": [],
   "source": [
    "y_pred=svc_pipeline.predict(X_val)"
   ]
  },
  {
   "cell_type": "code",
   "execution_count": 26,
   "id": "00f56792",
   "metadata": {
    "execution": {
     "iopub.execute_input": "2025-07-12T11:10:23.167553Z",
     "iopub.status.busy": "2025-07-12T11:10:23.167224Z",
     "iopub.status.idle": "2025-07-12T11:10:23.176377Z",
     "shell.execute_reply": "2025-07-12T11:10:23.175523Z"
    },
    "papermill": {
     "duration": 0.021441,
     "end_time": "2025-07-12T11:10:23.177774",
     "exception": false,
     "start_time": "2025-07-12T11:10:23.156333",
     "status": "completed"
    },
    "tags": []
   },
   "outputs": [
    {
     "data": {
      "text/plain": [
       "0.8258426966292135"
      ]
     },
     "execution_count": 26,
     "metadata": {},
     "output_type": "execute_result"
    }
   ],
   "source": [
    "accuracy_score(y_val, y_pred)"
   ]
  },
  {
   "cell_type": "code",
   "execution_count": 27,
   "id": "e2b31c83",
   "metadata": {
    "execution": {
     "iopub.execute_input": "2025-07-12T11:10:23.199317Z",
     "iopub.status.busy": "2025-07-12T11:10:23.198491Z",
     "iopub.status.idle": "2025-07-12T11:10:23.487303Z",
     "shell.execute_reply": "2025-07-12T11:10:23.486447Z"
    },
    "papermill": {
     "duration": 0.301043,
     "end_time": "2025-07-12T11:10:23.488707",
     "exception": false,
     "start_time": "2025-07-12T11:10:23.187664",
     "status": "completed"
    },
    "tags": []
   },
   "outputs": [
    {
     "data": {
      "text/plain": [
       "<sklearn.metrics._plot.confusion_matrix.ConfusionMatrixDisplay at 0x7a74f44c6f50>"
      ]
     },
     "execution_count": 27,
     "metadata": {},
     "output_type": "execute_result"
    },
    {
     "data": {
      "image/png": "[encoded data removed]",
      "text/plain": [
       "<Figure size 640x480 with 2 Axes>"
      ]
     },
     "metadata": {},
     "output_type": "display_data"
    }
   ],
   "source": [
    "ConfusionMatrixDisplay(confusion_matrix(y_val, y_pred)).plot()"
   ]
  },
  {
   "cell_type": "code",
   "execution_count": 28,
   "id": "aade30e5",
   "metadata": {
    "execution": {
     "iopub.execute_input": "2025-07-12T11:10:23.509788Z",
     "iopub.status.busy": "2025-07-12T11:10:23.509278Z",
     "iopub.status.idle": "2025-07-12T11:10:23.529817Z",
     "shell.execute_reply": "2025-07-12T11:10:23.529233Z"
    },
    "papermill": {
     "duration": 0.032504,
     "end_time": "2025-07-12T11:10:23.531293",
     "exception": false,
     "start_time": "2025-07-12T11:10:23.498789",
     "status": "completed"
    },
    "tags": []
   },
   "outputs": [],
   "source": [
    "# export the result to CSV\n",
    "result=pd.concat([passengerId,pd.DataFrame(svc_pipeline.predict(X_test))], axis=1)\n",
    "result=result.rename(columns={0:'Survived'})\n",
    "result.to_csv('Prediction1.csv', index=False)"
   ]
  },
  {
   "cell_type": "markdown",
   "id": "a46431eb",
   "metadata": {
    "papermill": {
     "duration": 0.009733,
     "end_time": "2025-07-12T11:10:23.551141",
     "exception": false,
     "start_time": "2025-07-12T11:10:23.541408",
     "status": "completed"
    },
    "tags": []
   },
   "source": [
    "# **4.Cross-Validation for Support Vector Machince**"
   ]
  },
  {
   "cell_type": "markdown",
   "id": "ea82f58b",
   "metadata": {
    "papermill": {
     "duration": 0.009466,
     "end_time": "2025-07-12T11:10:23.570346",
     "exception": false,
     "start_time": "2025-07-12T11:10:23.560880",
     "status": "completed"
    },
    "tags": []
   },
   "source": [
    "In this part, we will perform parameter-tuning and cross-validation on the current SVM to boost the model performance"
   ]
  },
  {
   "cell_type": "code",
   "execution_count": 29,
   "id": "d340ed3b",
   "metadata": {
    "execution": {
     "iopub.execute_input": "2025-07-12T11:10:23.591164Z",
     "iopub.status.busy": "2025-07-12T11:10:23.590819Z",
     "iopub.status.idle": "2025-07-12T11:10:23.594685Z",
     "shell.execute_reply": "2025-07-12T11:10:23.594075Z"
    },
    "papermill": {
     "duration": 0.015985,
     "end_time": "2025-07-12T11:10:23.595957",
     "exception": false,
     "start_time": "2025-07-12T11:10:23.579972",
     "status": "completed"
    },
    "tags": []
   },
   "outputs": [],
   "source": [
    "# import some important library\n",
    "from sklearn.model_selection import GridSearchCV\n",
    "from sklearn.model_selection import StratifiedKFold # to stratify the split of the data when doing cross validation"
   ]
  },
  {
   "cell_type": "code",
   "execution_count": 30,
   "id": "674e0e1c",
   "metadata": {
    "execution": {
     "iopub.execute_input": "2025-07-12T11:10:23.616578Z",
     "iopub.status.busy": "2025-07-12T11:10:23.616310Z",
     "iopub.status.idle": "2025-07-12T11:10:23.621709Z",
     "shell.execute_reply": "2025-07-12T11:10:23.621116Z"
    },
    "papermill": {
     "duration": 0.017218,
     "end_time": "2025-07-12T11:10:23.622926",
     "exception": false,
     "start_time": "2025-07-12T11:10:23.605708",
     "status": "completed"
    },
    "tags": []
   },
   "outputs": [],
   "source": [
    "# create a function to train the model\n",
    "def svc_grid_search(pipeline, hyperparameters):\n",
    "    # create a grid search model\n",
    "    model=GridSearchCV(pipeline, param_grid=hyperparameters, cv=StratifiedKFold(n_splits=10, shuffle=True, random_state=42), scoring='f1')\n",
    "    model.fit(X_train, y_train.values.reshape(-1))\n",
    "    # show the best combination of hyperparameters\n",
    "    print(\"Best hyperparameter values: {}\\n\".format(model.best_params_))\n",
    "    # show the train accuracy\n",
    "    train_accuracy=accuracy_score(y_val, model.predict(X_val))\n",
    "    print(f'Validation accuracy: {train_accuracy:.3f}')\n",
    "    # show the confusion matrix\n",
    "    ConfusionMatrixDisplay.from_estimator(\n",
    "        model,\n",
    "        X_val,\n",
    "        y_val,\n",
    "        display_labels=model.classes_,\n",
    "    )\n",
    "    plt.title('Test set result of SVC model with best hyperparameters combination')\n",
    "    y_pred=model.predict(X_test)\n",
    "    return model, y_pred"
   ]
  },
  {
   "cell_type": "markdown",
   "id": "3804c672",
   "metadata": {
    "papermill": {
     "duration": 0.009799,
     "end_time": "2025-07-12T11:10:23.643118",
     "exception": false,
     "start_time": "2025-07-12T11:10:23.633319",
     "status": "completed"
    },
    "tags": []
   },
   "source": [
    "In this part, I will twerk C, gamma and the kernel. For kernel, the default kernel is 'rbf'. I have tried with linear kernel and the accuracy decreased, therefore, we will keep kernel as rbf."
   ]
  },
  {
   "cell_type": "code",
   "execution_count": 31,
   "id": "87149214",
   "metadata": {
    "execution": {
     "iopub.execute_input": "2025-07-12T11:10:23.664015Z",
     "iopub.status.busy": "2025-07-12T11:10:23.663738Z",
     "iopub.status.idle": "2025-07-12T11:10:23.667783Z",
     "shell.execute_reply": "2025-07-12T11:10:23.667076Z"
    },
    "papermill": {
     "duration": 0.016355,
     "end_time": "2025-07-12T11:10:23.669261",
     "exception": false,
     "start_time": "2025-07-12T11:10:23.652906",
     "status": "completed"
    },
    "tags": []
   },
   "outputs": [],
   "source": [
    "# list of hyperparameters, we will use the pipeline above\n",
    "hyperparams={'svc__C':np.arange(0.01,10).tolist(), 'svc__gamma':np.arange(0.01,10).tolist()}"
   ]
  },
  {
   "cell_type": "code",
   "execution_count": 32,
   "id": "9d895c37",
   "metadata": {
    "execution": {
     "iopub.execute_input": "2025-07-12T11:10:23.691027Z",
     "iopub.status.busy": "2025-07-12T11:10:23.690755Z",
     "iopub.status.idle": "2025-07-12T11:10:49.950791Z",
     "shell.execute_reply": "2025-07-12T11:10:49.950020Z"
    },
    "papermill": {
     "duration": 26.2729,
     "end_time": "2025-07-12T11:10:49.952286",
     "exception": false,
     "start_time": "2025-07-12T11:10:23.679386",
     "status": "completed"
    },
    "tags": []
   },
   "outputs": [
    {
     "name": "stdout",
     "output_type": "stream",
     "text": [
      "Best hyperparameter values: {'svc__C': 2.01, 'svc__gamma': 1.01}\n",
      "\n",
      "Validation accuracy: 0.826\n"
     ]
    },
    {
     "data": {
      "image/png": "[encoded data removed]",
      "text/plain": [
       "<Figure size 640x480 with 2 Axes>"
      ]
     },
     "metadata": {},
     "output_type": "display_data"
    }
   ],
   "source": [
    "result, y_pred=svc_grid_search(svc_pipeline, hyperparams)"
   ]
  },
  {
   "cell_type": "code",
   "execution_count": 33,
   "id": "9068f19b",
   "metadata": {
    "execution": {
     "iopub.execute_input": "2025-07-12T11:10:49.976213Z",
     "iopub.status.busy": "2025-07-12T11:10:49.975607Z",
     "iopub.status.idle": "2025-07-12T11:10:49.981163Z",
     "shell.execute_reply": "2025-07-12T11:10:49.980494Z"
    },
    "papermill": {
     "duration": 0.017947,
     "end_time": "2025-07-12T11:10:49.982423",
     "exception": false,
     "start_time": "2025-07-12T11:10:49.964476",
     "status": "completed"
    },
    "tags": []
   },
   "outputs": [
    {
     "data": {
      "text/plain": [
       "array([0, 0, 0, 0, 0, 0, 0, 0, 1, 0, 0, 0, 1, 0, 1, 1, 0, 0, 0, 1, 1, 1,\n",
       "       1, 1, 1, 0, 1, 0, 0, 0, 0, 0, 0, 0, 1, 0, 0, 0, 0, 1, 1, 0, 0, 1,\n",
       "       1, 0, 0, 0, 1, 0, 0, 0, 1, 1, 0, 0, 0, 0, 0, 1, 0, 0, 0, 1, 1, 1,\n",
       "       1, 0, 1, 1, 1, 0, 0, 1, 1, 0, 0, 1, 0, 1, 0, 1, 0, 0, 0, 0, 1, 0,\n",
       "       1, 1, 0, 0, 1, 0, 1, 0, 1, 0, 0, 0, 1, 0, 0, 0, 0, 0, 0, 0, 0, 0,\n",
       "       0, 1, 1, 1, 1, 0, 0, 1, 0, 1, 1, 0, 1, 0, 0, 1, 0, 1, 0, 0, 0, 0,\n",
       "       0, 0, 0, 0, 0, 0, 0, 0, 0, 1, 1, 0, 0, 0, 0, 0, 0, 0, 1, 0, 0, 0,\n",
       "       0, 0, 1, 0, 0, 1, 1, 0, 1, 0, 0, 0, 0, 0, 1, 0, 0, 0, 0, 0, 0, 1,\n",
       "       1, 1, 1, 1, 0, 1, 1, 0, 1, 0, 1, 0, 0, 0, 0, 0, 1, 0, 1, 0, 1, 0,\n",
       "       0, 0, 1, 1, 1, 1, 0, 0, 0, 0, 1, 0, 0, 0, 0, 1, 0, 0, 1, 0, 1, 0,\n",
       "       1, 0, 1, 0, 0, 1, 0, 1, 0, 0, 0, 1, 0, 0, 1, 0, 1, 0, 1, 1, 0, 1,\n",
       "       0, 0, 0, 0, 1, 0, 1, 0, 1, 0, 0, 0, 0, 0, 0, 0, 1, 0, 0, 0, 1, 1,\n",
       "       0, 0, 0, 0, 0, 0, 0, 0, 1, 1, 0, 1, 0, 0, 0, 0, 0, 1, 1, 0, 1, 0,\n",
       "       0, 0, 0, 0, 0, 0, 0, 0, 0, 0, 1, 0, 1, 0, 0, 0, 0, 0, 1, 1, 1, 1,\n",
       "       0, 0, 0, 0, 0, 0, 1, 1, 0, 0, 0, 0, 0, 0, 0, 1, 1, 0, 1, 0, 0, 0,\n",
       "       1, 0, 0, 1, 0, 1, 0, 1, 0, 0, 0, 0, 1, 1, 0, 0, 0, 1, 0, 1, 1, 0,\n",
       "       0, 0, 1, 0, 1, 0, 0, 0, 0, 1, 1, 0, 1, 1, 0, 0, 1, 0, 0, 1, 0, 0,\n",
       "       1, 1, 0, 0, 0, 0, 0, 0, 0, 0, 0, 1, 0, 0, 0, 0, 0, 1, 1, 0, 0, 1,\n",
       "       0, 1, 0, 0, 1, 0, 1, 0, 1, 0, 0, 1, 1, 1, 1, 1, 0, 0, 1, 0, 0, 1])"
      ]
     },
     "execution_count": 33,
     "metadata": {},
     "output_type": "execute_result"
    }
   ],
   "source": [
    "y_pred"
   ]
  },
  {
   "cell_type": "markdown",
   "id": "53d2b5aa",
   "metadata": {
    "papermill": {
     "duration": 0.010391,
     "end_time": "2025-07-12T11:10:50.003538",
     "exception": false,
     "start_time": "2025-07-12T11:10:49.993147",
     "status": "completed"
    },
    "tags": []
   },
   "source": [
    "After using cross-validation, the model performance increased by around 0.03, the number of misclassified observations reduced  a lot, esspecially with number of FN. The best model has C value of 8.01 and gamma of 1.01. It is surprised that the model performance is actually worse compared to the original parameters of SVC"
   ]
  },
  {
   "cell_type": "code",
   "execution_count": 34,
   "id": "c14015c2",
   "metadata": {
    "execution": {
     "iopub.execute_input": "2025-07-12T11:10:50.026165Z",
     "iopub.status.busy": "2025-07-12T11:10:50.025477Z",
     "iopub.status.idle": "2025-07-12T11:10:50.032617Z",
     "shell.execute_reply": "2025-07-12T11:10:50.031966Z"
    },
    "papermill": {
     "duration": 0.020069,
     "end_time": "2025-07-12T11:10:50.034010",
     "exception": false,
     "start_time": "2025-07-12T11:10:50.013941",
     "status": "completed"
    },
    "tags": []
   },
   "outputs": [],
   "source": [
    "# export the result to CSV\n",
    "result=pd.concat([passengerId, pd.DataFrame(y_pred)], axis=1)\n",
    "result=result.rename(columns={0:'Survived'})\n",
    "result.to_csv('Prediction2.csv', index=False)"
   ]
  },
  {
   "cell_type": "markdown",
   "id": "51e4b034",
   "metadata": {
    "papermill": {
     "duration": 0.010302,
     "end_time": "2025-07-12T11:10:50.055050",
     "exception": false,
     "start_time": "2025-07-12T11:10:50.044748",
     "status": "completed"
    },
    "tags": []
   },
   "source": [
    "# **6.Voting Classifier**"
   ]
  },
  {
   "cell_type": "markdown",
   "id": "6eddc7e6",
   "metadata": {
    "papermill": {
     "duration": 0.010113,
     "end_time": "2025-07-12T11:10:50.075497",
     "exception": false,
     "start_time": "2025-07-12T11:10:50.065384",
     "status": "completed"
    },
    "tags": []
   },
   "source": [
    "In this stage, we can use voting classifier as one of the ensemble method to perform classification. In this voting classifer, we will use logistic regression, support vector machine and random forest classification. We will also use soft-voting that the model will make the decision based on which class has higher probability in each classification model"
   ]
  },
  {
   "cell_type": "code",
   "execution_count": 35,
   "id": "153a8ab2",
   "metadata": {
    "execution": {
     "iopub.execute_input": "2025-07-12T11:10:50.097659Z",
     "iopub.status.busy": "2025-07-12T11:10:50.096886Z",
     "iopub.status.idle": "2025-07-12T11:10:50.350267Z",
     "shell.execute_reply": "2025-07-12T11:10:50.349376Z"
    },
    "papermill": {
     "duration": 0.266176,
     "end_time": "2025-07-12T11:10:50.351891",
     "exception": false,
     "start_time": "2025-07-12T11:10:50.085715",
     "status": "completed"
    },
    "tags": []
   },
   "outputs": [],
   "source": [
    "# import voting classifier\n",
    "from sklearn.ensemble import VotingClassifier\n",
    "from sklearn.ensemble import RandomForestClassifier\n",
    "from sklearn.linear_model import LogisticRegression"
   ]
  },
  {
   "cell_type": "code",
   "execution_count": 36,
   "id": "eb59d80a",
   "metadata": {
    "execution": {
     "iopub.execute_input": "2025-07-12T11:10:50.374930Z",
     "iopub.status.busy": "2025-07-12T11:10:50.374175Z",
     "iopub.status.idle": "2025-07-12T11:10:50.378954Z",
     "shell.execute_reply": "2025-07-12T11:10:50.378093Z"
    },
    "papermill": {
     "duration": 0.0174,
     "end_time": "2025-07-12T11:10:50.380341",
     "exception": false,
     "start_time": "2025-07-12T11:10:50.362941",
     "status": "completed"
    },
    "tags": []
   },
   "outputs": [],
   "source": [
    "# create a voting classifier\n",
    "voting_clf = VotingClassifier(estimators=[\n",
    "    ('lr', LogisticRegression()),\n",
    "    ('rfc', RandomForestClassifier()),\n",
    "    ('svc', SVC(probability=True))\n",
    "])\n",
    "voting_clf.voting='soft'"
   ]
  },
  {
   "cell_type": "code",
   "execution_count": 37,
   "id": "383b5da2",
   "metadata": {
    "execution": {
     "iopub.execute_input": "2025-07-12T11:10:50.402502Z",
     "iopub.status.busy": "2025-07-12T11:10:50.402219Z",
     "iopub.status.idle": "2025-07-12T11:10:50.405898Z",
     "shell.execute_reply": "2025-07-12T11:10:50.405233Z"
    },
    "papermill": {
     "duration": 0.016262,
     "end_time": "2025-07-12T11:10:50.407122",
     "exception": false,
     "start_time": "2025-07-12T11:10:50.390860",
     "status": "completed"
    },
    "tags": []
   },
   "outputs": [],
   "source": [
    "# create a voting classifier pipeline\n",
    "voting_clf_pipeline=make_pipeline(StandardScaler(), voting_clf)"
   ]
  },
  {
   "cell_type": "code",
   "execution_count": 38,
   "id": "8c62300e",
   "metadata": {
    "execution": {
     "iopub.execute_input": "2025-07-12T11:10:50.428993Z",
     "iopub.status.busy": "2025-07-12T11:10:50.428730Z",
     "iopub.status.idle": "2025-07-12T11:10:50.800576Z",
     "shell.execute_reply": "2025-07-12T11:10:50.799810Z"
    },
    "papermill": {
     "duration": 0.384265,
     "end_time": "2025-07-12T11:10:50.801955",
     "exception": false,
     "start_time": "2025-07-12T11:10:50.417690",
     "status": "completed"
    },
    "tags": []
   },
   "outputs": [
    {
     "data": {
      "text/html": [
       "<style>#sk-container-id-2 {color: black;background-color: white;}#sk-container-id-2 pre{padding: 0;}#sk-container-id-2 div.sk-toggleable {background-color: white;}#sk-container-id-2 label.sk-toggleable__label {cursor: pointer;display: block;width: 100%;margin-bottom: 0;padding: 0.3em;box-sizing: border-box;text-align: center;}#sk-container-id-2 label.sk-toggleable__label-arrow:before {content: \"▸\";float: left;margin-right: 0.25em;color: #696969;}#sk-container-id-2 label.sk-toggleable__label-arrow:hover:before {color: black;}#sk-container-id-2 div.sk-estimator:hover label.sk-toggleable__label-arrow:before {color: black;}#sk-container-id-2 div.sk-toggleable__content {max-height: 0;max-width: 0;overflow: hidden;text-align: left;background-color: #f0f8ff;}#sk-container-id-2 div.sk-toggleable__content pre {margin: 0.2em;color: black;border-radius: 0.25em;background-color: #f0f8ff;}#sk-container-id-2 input.sk-toggleable__control:checked~div.sk-toggleable__content {max-height: 200px;max-width: 100%;overflow: auto;}#sk-container-id-2 input.sk-toggleable__control:checked~label.sk-toggleable__label-arrow:before {content: \"▾\";}#sk-container-id-2 div.sk-estimator input.sk-toggleable__control:checked~label.sk-toggleable__label {background-color: #d4ebff;}#sk-container-id-2 div.sk-label input.sk-toggleable__control:checked~label.sk-toggleable__label {background-color: #d4ebff;}#sk-container-id-2 input.sk-hidden--visually {border: 0;clip: rect(1px 1px 1px 1px);clip: rect(1px, 1px, 1px, 1px);height: 1px;margin: -1px;overflow: hidden;padding: 0;position: absolute;width: 1px;}#sk-container-id-2 div.sk-estimator {font-family: monospace;background-color: #f0f8ff;border: 1px dotted black;border-radius: 0.25em;box-sizing: border-box;margin-bottom: 0.5em;}#sk-container-id-2 div.sk-estimator:hover {background-color: #d4ebff;}#sk-container-id-2 div.sk-parallel-item::after {content: \"\";width: 100%;border-bottom: 1px solid gray;flex-grow: 1;}#sk-container-id-2 div.sk-label:hover label.sk-toggleable__label {background-color: #d4ebff;}#sk-container-id-2 div.sk-serial::before {content: \"\";position: absolute;border-left: 1px solid gray;box-sizing: border-box;top: 0;bottom: 0;left: 50%;z-index: 0;}#sk-container-id-2 div.sk-serial {display: flex;flex-direction: column;align-items: center;background-color: white;padding-right: 0.2em;padding-left: 0.2em;position: relative;}#sk-container-id-2 div.sk-item {position: relative;z-index: 1;}#sk-container-id-2 div.sk-parallel {display: flex;align-items: stretch;justify-content: center;background-color: white;position: relative;}#sk-container-id-2 div.sk-item::before, #sk-container-id-2 div.sk-parallel-item::before {content: \"\";position: absolute;border-left: 1px solid gray;box-sizing: border-box;top: 0;bottom: 0;left: 50%;z-index: -1;}#sk-container-id-2 div.sk-parallel-item {display: flex;flex-direction: column;z-index: 1;position: relative;background-color: white;}#sk-container-id-2 div.sk-parallel-item:first-child::after {align-self: flex-end;width: 50%;}#sk-container-id-2 div.sk-parallel-item:last-child::after {align-self: flex-start;width: 50%;}#sk-container-id-2 div.sk-parallel-item:only-child::after {width: 0;}#sk-container-id-2 div.sk-dashed-wrapped {border: 1px dashed gray;margin: 0 0.4em 0.5em 0.4em;box-sizing: border-box;padding-bottom: 0.4em;background-color: white;}#sk-container-id-2 div.sk-label label {font-family: monospace;font-weight: bold;display: inline-block;line-height: 1.2em;}#sk-container-id-2 div.sk-label-container {text-align: center;}#sk-container-id-2 div.sk-container {/* jupyter's `normalize.less` sets `[hidden] { display: none; }` but bootstrap.min.css set `[hidden] { display: none !important; }` so we also need the `!important` here to be able to override the default hidden behavior on the sphinx rendered scikit-learn.org. See: https://github.com/scikit-learn/scikit-learn/issues/21755 */display: inline-block !important;position: relative;}#sk-container-id-2 div.sk-text-repr-fallback {display: none;}</style><div id=\"sk-container-id-2\" class=\"sk-top-container\"><div class=\"sk-text-repr-fallback\"><pre>Pipeline(steps=[(&#x27;standardscaler&#x27;, StandardScaler()),\n",
       "                (&#x27;votingclassifier&#x27;,\n",
       "                 VotingClassifier(estimators=[(&#x27;lr&#x27;, LogisticRegression()),\n",
       "                                              (&#x27;rfc&#x27;, RandomForestClassifier()),\n",
       "                                              (&#x27;svc&#x27;, SVC(probability=True))],\n",
       "                                  voting=&#x27;soft&#x27;))])</pre><b>In a Jupyter environment, please rerun this cell to show the HTML representation or trust the notebook. <br />On GitHub, the HTML representation is unable to render, please try loading this page with nbviewer.org.</b></div><div class=\"sk-container\" hidden><div class=\"sk-item sk-dashed-wrapped\"><div class=\"sk-label-container\"><div class=\"sk-label sk-toggleable\"><input class=\"sk-toggleable__control sk-hidden--visually\" id=\"sk-estimator-id-4\" type=\"checkbox\" ><label for=\"sk-estimator-id-4\" class=\"sk-toggleable__label sk-toggleable__label-arrow\">Pipeline</label><div class=\"sk-toggleable__content\"><pre>Pipeline(steps=[(&#x27;standardscaler&#x27;, StandardScaler()),\n",
       "                (&#x27;votingclassifier&#x27;,\n",
       "                 VotingClassifier(estimators=[(&#x27;lr&#x27;, LogisticRegression()),\n",
       "                                              (&#x27;rfc&#x27;, RandomForestClassifier()),\n",
       "                                              (&#x27;svc&#x27;, SVC(probability=True))],\n",
       "                                  voting=&#x27;soft&#x27;))])</pre></div></div></div><div class=\"sk-serial\"><div class=\"sk-item\"><div class=\"sk-estimator sk-toggleable\"><input class=\"sk-toggleable__control sk-hidden--visually\" id=\"sk-estimator-id-5\" type=\"checkbox\" ><label for=\"sk-estimator-id-5\" class=\"sk-toggleable__label sk-toggleable__label-arrow\">StandardScaler</label><div class=\"sk-toggleable__content\"><pre>StandardScaler()</pre></div></div></div><div class=\"sk-item sk-dashed-wrapped\"><div class=\"sk-label-container\"><div class=\"sk-label sk-toggleable\"><input class=\"sk-toggleable__control sk-hidden--visually\" id=\"sk-estimator-id-6\" type=\"checkbox\" ><label for=\"sk-estimator-id-6\" class=\"sk-toggleable__label sk-toggleable__label-arrow\">votingclassifier: VotingClassifier</label><div class=\"sk-toggleable__content\"><pre>VotingClassifier(estimators=[(&#x27;lr&#x27;, LogisticRegression()),\n",
       "                             (&#x27;rfc&#x27;, RandomForestClassifier()),\n",
       "                             (&#x27;svc&#x27;, SVC(probability=True))],\n",
       "                 voting=&#x27;soft&#x27;)</pre></div></div></div><div class=\"sk-parallel\"><div class=\"sk-parallel-item\"><div class=\"sk-item\"><div class=\"sk-label-container\"><div class=\"sk-label sk-toggleable\"><label>lr</label></div></div><div class=\"sk-serial\"><div class=\"sk-item\"><div class=\"sk-estimator sk-toggleable\"><input class=\"sk-toggleable__control sk-hidden--visually\" id=\"sk-estimator-id-7\" type=\"checkbox\" ><label for=\"sk-estimator-id-7\" class=\"sk-toggleable__label sk-toggleable__label-arrow\">LogisticRegression</label><div class=\"sk-toggleable__content\"><pre>LogisticRegression()</pre></div></div></div></div></div></div><div class=\"sk-parallel-item\"><div class=\"sk-item\"><div class=\"sk-label-container\"><div class=\"sk-label sk-toggleable\"><label>rfc</label></div></div><div class=\"sk-serial\"><div class=\"sk-item\"><div class=\"sk-estimator sk-toggleable\"><input class=\"sk-toggleable__control sk-hidden--visually\" id=\"sk-estimator-id-8\" type=\"checkbox\" ><label for=\"sk-estimator-id-8\" class=\"sk-toggleable__label sk-toggleable__label-arrow\">RandomForestClassifier</label><div class=\"sk-toggleable__content\"><pre>RandomForestClassifier()</pre></div></div></div></div></div></div><div class=\"sk-parallel-item\"><div class=\"sk-item\"><div class=\"sk-label-container\"><div class=\"sk-label sk-toggleable\"><label>svc</label></div></div><div class=\"sk-serial\"><div class=\"sk-item\"><div class=\"sk-estimator sk-toggleable\"><input class=\"sk-toggleable__control sk-hidden--visually\" id=\"sk-estimator-id-9\" type=\"checkbox\" ><label for=\"sk-estimator-id-9\" class=\"sk-toggleable__label sk-toggleable__label-arrow\">SVC</label><div class=\"sk-toggleable__content\"><pre>SVC(probability=True)</pre></div></div></div></div></div></div></div></div></div></div></div></div>"
      ],
      "text/plain": [
       "Pipeline(steps=[('standardscaler', StandardScaler()),\n",
       "                ('votingclassifier',\n",
       "                 VotingClassifier(estimators=[('lr', LogisticRegression()),\n",
       "                                              ('rfc', RandomForestClassifier()),\n",
       "                                              ('svc', SVC(probability=True))],\n",
       "                                  voting='soft'))])"
      ]
     },
     "execution_count": 38,
     "metadata": {},
     "output_type": "execute_result"
    }
   ],
   "source": [
    "voting_clf_pipeline.fit(X_train, y_train.values.reshape(-1))"
   ]
  },
  {
   "cell_type": "code",
   "execution_count": 39,
   "id": "2ccd1128",
   "metadata": {
    "execution": {
     "iopub.execute_input": "2025-07-12T11:10:50.824609Z",
     "iopub.status.busy": "2025-07-12T11:10:50.824314Z",
     "iopub.status.idle": "2025-07-12T11:10:50.841983Z",
     "shell.execute_reply": "2025-07-12T11:10:50.841327Z"
    },
    "papermill": {
     "duration": 0.030695,
     "end_time": "2025-07-12T11:10:50.843436",
     "exception": false,
     "start_time": "2025-07-12T11:10:50.812741",
     "status": "completed"
    },
    "tags": []
   },
   "outputs": [],
   "source": [
    "y_pred=voting_clf_pipeline.predict(X_val)"
   ]
  },
  {
   "cell_type": "code",
   "execution_count": 40,
   "id": "fcea79f0",
   "metadata": {
    "execution": {
     "iopub.execute_input": "2025-07-12T11:10:50.867119Z",
     "iopub.status.busy": "2025-07-12T11:10:50.866453Z",
     "iopub.status.idle": "2025-07-12T11:10:50.874671Z",
     "shell.execute_reply": "2025-07-12T11:10:50.873875Z"
    },
    "papermill": {
     "duration": 0.021472,
     "end_time": "2025-07-12T11:10:50.876058",
     "exception": false,
     "start_time": "2025-07-12T11:10:50.854586",
     "status": "completed"
    },
    "tags": []
   },
   "outputs": [
    {
     "data": {
      "text/plain": [
       "0.8089887640449438"
      ]
     },
     "execution_count": 40,
     "metadata": {},
     "output_type": "execute_result"
    }
   ],
   "source": [
    "accuracy_score(y_val, y_pred)"
   ]
  },
  {
   "cell_type": "code",
   "execution_count": 41,
   "id": "3d644009",
   "metadata": {
    "execution": {
     "iopub.execute_input": "2025-07-12T11:10:50.899655Z",
     "iopub.status.busy": "2025-07-12T11:10:50.898910Z",
     "iopub.status.idle": "2025-07-12T11:10:51.107051Z",
     "shell.execute_reply": "2025-07-12T11:10:51.106090Z"
    },
    "papermill": {
     "duration": 0.221441,
     "end_time": "2025-07-12T11:10:51.108432",
     "exception": false,
     "start_time": "2025-07-12T11:10:50.886991",
     "status": "completed"
    },
    "tags": []
   },
   "outputs": [
    {
     "data": {
      "text/plain": [
       "<sklearn.metrics._plot.confusion_matrix.ConfusionMatrixDisplay at 0x7a74f1f05950>"
      ]
     },
     "execution_count": 41,
     "metadata": {},
     "output_type": "execute_result"
    },
    {
     "data": {
      "image/png": "[encoded data removed]",
      "text/plain": [
       "<Figure size 640x480 with 2 Axes>"
      ]
     },
     "metadata": {},
     "output_type": "display_data"
    }
   ],
   "source": [
    "ConfusionMatrixDisplay(confusion_matrix(y_val, y_pred)).plot()"
   ]
  },
  {
   "cell_type": "code",
   "execution_count": 42,
   "id": "b15c0d25",
   "metadata": {
    "execution": {
     "iopub.execute_input": "2025-07-12T11:10:51.132555Z",
     "iopub.status.busy": "2025-07-12T11:10:51.131811Z",
     "iopub.status.idle": "2025-07-12T11:10:51.160184Z",
     "shell.execute_reply": "2025-07-12T11:10:51.159494Z"
    },
    "papermill": {
     "duration": 0.041834,
     "end_time": "2025-07-12T11:10:51.161629",
     "exception": false,
     "start_time": "2025-07-12T11:10:51.119795",
     "status": "completed"
    },
    "tags": []
   },
   "outputs": [],
   "source": [
    "# export the result to CSV\n",
    "result=pd.concat([passengerId,pd.DataFrame(voting_clf_pipeline.predict(X_test))], axis=1)\n",
    "result=result.rename(columns={0:'Survived'})\n",
    "result.to_csv('Prediction3.csv', index=False)"
   ]
  }
 ],
 "metadata": {
  "kaggle": {
   "accelerator": "none",
   "dataSources": [
    {
     "datasetId": 7852542,
     "sourceId": 12448431,
     "sourceType": "datasetVersion"
    }
   ],
   "dockerImageVersionId": 31089,
   "isGpuEnabled": false,
   "isInternetEnabled": false,
   "language": "python",
   "sourceType": "notebook"
  },
  "kernelspec": {
   "display_name": "Python 3",
   "language": "python",
   "name": "python3"
  },
  "language_info": {
   "codemirror_mode": {
    "name": "ipython",
    "version": 3
   },
   "file_extension": ".py",
   "mimetype": "text/x-python",
   "name": "python",
   "nbconvert_exporter": "python",
   "pygments_lexer": "ipython3",
   "version": "3.11.13"
  },
  "papermill": {
   "default_parameters": {},
   "duration": 37.279218,
   "end_time": "2025-07-12T11:10:51.791991",
   "environment_variables": {},
   "exception": null,
   "input_path": "__notebook__.ipynb",
   "output_path": "__notebook__.ipynb",
   "parameters": {},
   "start_time": "2025-07-12T11:10:14.512773",
   "version": "2.6.0"
  }
 },
 "nbformat": 4,
 "nbformat_minor": 5
}
